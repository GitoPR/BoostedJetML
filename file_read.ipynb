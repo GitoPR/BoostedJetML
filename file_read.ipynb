{
 "cells": [
  {
   "cell_type": "code",
   "execution_count": 4,
   "id": "7afe3b90-8c71-4856-8943-ec4e5de12b6a",
   "metadata": {},
   "outputs": [],
   "source": [
    "import numpy as np\n",
    "import uproot \n",
    "import awkward as ak\n",
    "import h5py\n",
    "import ROOT as root "
   ]
  },
  {
   "cell_type": "code",
   "execution_count": 5,
   "id": "a17afe77-c30b-4566-a76f-d846a4661643",
   "metadata": {},
   "outputs": [
    {
     "name": "stdout",
     "output_type": "stream",
     "text": [
      "(154668, 3, 3)\n"
     ]
    }
   ],
   "source": [
    "file = uproot.open(\"/Users/jorgehernandez/Documents/HEP_work/BoostedJetML/l1TNtuple-ggHBB_29Jul.root\") \n",
    "tree = file['l1NtupleProducer/efficiencyTree']\n",
    "\n",
    "\n",
    "jetreg = tree['jetRegionEt'].array()\n",
    "#print(jetreg) #.to_numpy().shape) \n",
    "\n",
    "allflat = ak.flatten(jetreg, axis=None) #was able to see that the jetreg awk array was a nested \n",
    "#list with inconsistent lengths and cant easily be converted into a numpy array\n",
    "#print(allflat)\n",
    "#print(ak.num(allflat, axis=0))\n",
    "#print(1392012/9)\n",
    "\n",
    "jr = allflat.to_numpy()\n",
    "\n",
    "#print(jr.shape)\n",
    "\n",
    "jetreg_r = np.resize(jr, (154668, 3,3))\n",
    "print(jetreg_r.shape)\n",
    "\n",
    "#print(jetreg_r[1])\n",
    "#print(jr.shape)"
   ]
  },
  {
   "cell_type": "code",
   "execution_count": null,
   "id": "faa7a31e-e796-497f-b04d-d901f76e03d7",
   "metadata": {},
   "outputs": [],
   "source": [
    "     "
   ]
  },
  {
   "cell_type": "code",
   "execution_count": 32,
   "id": "c651e61c-7e62-4bb7-a5a0-c2d143cac1fc",
   "metadata": {},
   "outputs": [
    {
     "name": "stdout",
     "output_type": "stream",
     "text": [
      "[False, False, False, True, False, False, False, False, False]\n",
      "18215\n"
     ]
    }
   ],
   "source": [
    "signals = tree['allL1Signals'].array()\n",
    "\n",
    "print(signals[3]) # in all the events we may not have the same amount of jets. It is 1 to 1 correspondence with 3x3 jet regions \n",
    "allflat = ak.flatten(signals, axis=None) #was able to see that the jetreg awk array was a nested \n",
    "#list with inconsistent lengths and cant easily be converted into a numpy array\n",
    "#print(allflat)\n",
    "#print(ak.num(allflat, axis=0))\n",
    "\n",
    "#Make and write to the file an array that contains the size of the jets in each event. \n",
    "jets_per_event = ak.count(signals, axis =1)\n",
    "\n",
    "signals_r = allflat.to_numpy()\n",
    "#print(signals_r.shape)\n"
   ]
  },
  {
   "cell_type": "code",
   "execution_count": 46,
   "id": "cdf856b6-cb73-4854-8e2a-9b9d9e02fc13",
   "metadata": {},
   "outputs": [],
   "source": [
    "#Read the reco_pt\n",
    "reco_pt = tree['recoPt_1'].array().to_numpy()\n",
    "#print(reco_pt.shape)\n",
    "\n",
    "\n",
    "#Read the l1_pt\n",
    "l1_pt = tree[\"l1Pt_1\"].array().to_numpy()\n",
    "#print(l1_pt.shape) \n",
    "\n",
    "#Read the l1_jets\n",
    "l1_jets = tree[\"allL1Jets\"].array()\n",
    "#print(l1_jets)\n",
    "\n",
    "flat_jets = ak.flatten(l1_jets, axis=1)\n",
    "l1jets = flat_jets.to_numpy()\n",
    "\n",
    "\n",
    "#Read the reco_eta. \n",
    "reco_eta = tree[\"recoEta_1\"].array().to_numpy()\n",
    "#print(reco_eta.shape)\n",
    "\n",
    "#Read the reco_phi \n",
    "reco_phi =tree[\"recoPhi_1\"].array().to_numpy()\n",
    "#print(reco_phi.shape)\n",
    "\n",
    "l1_jets_2 = tree[\"l1Jets\"].array()\n",
    "\n"
   ]
  },
  {
   "cell_type": "code",
   "execution_count": 80,
   "id": "30b22e8e-5e79-41b2-83fb-b25a2c19d25f",
   "metadata": {},
   "outputs": [
    {
     "name": "stdout",
     "output_type": "stream",
     "text": [
      "2\n"
     ]
    }
   ],
   "source": [
    "print(len(l1_jets_2[3]))"
   ]
  },
  {
   "cell_type": "code",
   "execution_count": 81,
   "id": "9c41d611-e9cb-4504-a828-d7ff36f19ebb",
   "metadata": {},
   "outputs": [
    {
     "name": "stdout",
     "output_type": "stream",
     "text": [
      "18215\n"
     ]
    }
   ],
   "source": [
    "#couldnt use the ak.count method because it doesn't recognize how the Lorentz Vectors read\n",
    "#print(len(l1_jets_2))\n",
    "\n",
    "bit_pattern_multiplicity  = [] \n",
    "for index in range(0, len(l1_jets_2)):\n",
    "\n",
    "    bit_pattern_multiplicity.append(len(l1_jets_2[index])) \n",
    "\n",
    "print(len(bit_pattern_multiplicity))\n",
    "\n",
    "#check_array = np.array(bit_pattern_multiplicity)"
   ]
  },
  {
   "cell_type": "code",
   "execution_count": 66,
   "id": "bd95e70f-7c94-4951-a40f-dbf8e85787e8",
   "metadata": {},
   "outputs": [
    {
     "name": "stderr",
     "output_type": "stream",
     "text": [
      "Warning in <TROOT::Append>: Replacing existing TH1: Njet (Potential memory leak).\n"
     ]
    },
    {
     "data": {
      "image/png": "[encoded data removed]",
      "text/plain": [
       "<IPython.core.display.Image object>"
      ]
     },
     "metadata": {},
     "output_type": "display_data"
    }
   ],
   "source": [
    "bit_patt_hist = root.TH1F(\"Njet\" , \" ; N_{jets} ; #events\" , 15 , 0 ,15 ) \n",
    "\n",
    "for ele in bit_pattern_multiplicity: \n",
    "\n",
    "    bit_patt_hist.Fill(ele) \n",
    "\n",
    "canvas = root.TCanvas()\n",
    "\n",
    "bit_patt_hist.Draw()\n",
    "canvas.Draw()\n"
   ]
  },
  {
   "cell_type": "code",
   "execution_count": 58,
   "id": "45c14955-ea64-4a0c-b1aa-886577a05258",
   "metadata": {},
   "outputs": [],
   "source": [
    "l1Eta_1 = tree[\"l1Eta_1\"].array().to_numpy()\n",
    "#print(l1Eta_1.shape)\n",
    "\n",
    "l1Phi_1 = tree[\"l1Phi_1\"].array().to_numpy()\n",
    "#print(l1Phi_1.shape)\n"
   ]
  },
  {
   "cell_type": "code",
   "execution_count": 33,
   "id": "ee1911c8-9882-4899-9678-ee51f69b5c40",
   "metadata": {},
   "outputs": [],
   "source": [
    "with h5py.File('dataRead', 'w') as f: \n",
    "    dset1 = f.create_dataset(\"jetreg\" , data = jetreg_r) \n",
    "    dset2 = f.create_dataset(\"signals\", data = signals_r)\n",
    "    dset3 = f.create_dataset(\"recoPt_1\", data = reco_pt )  \n",
    "    dset4 = f.create_dataset(\"l1_pt\", data = l1_pt)  \n",
    "    dset5 = f.create_dataset(\"l1_jets\", data = l1jets) \n",
    "    dset6 = f.create_dataset(\"reco_eta\", data = reco_eta)\n",
    "    dset7 = f.create_dataset(\"reco_phi\", data = reco_phi)\n",
    "    dset8 = f.create_dataset(\"jets_per_event\", data = jets_per_event)\n",
    "    dset9 = f.create_dataset(\"l1Eta_1\", data = l1Eta_1 )\n",
    "    dset10 =  f.create_dataset(\"l1Phi_1\", data = l1Phi_1)"
   ]
  },
  {
   "cell_type": "code",
   "execution_count": null,
   "id": "133138f4-8416-4be2-9da9-46223f9949b7",
   "metadata": {},
   "outputs": [],
   "source": []
  }
 ],
 "metadata": {
  "kernelspec": {
   "display_name": "Python 3 (ipykernel)",
   "language": "python",
   "name": "python3"
  },
  "language_info": {
   "codemirror_mode": {
    "name": "ipython",
    "version": 3
   },
   "file_extension": ".py",
   "mimetype": "text/x-python",
   "name": "python",
   "nbconvert_exporter": "python",
   "pygments_lexer": "ipython3",
   "version": "3.9.18"
  }
 },
 "nbformat": 4,
 "nbformat_minor": 5
}
