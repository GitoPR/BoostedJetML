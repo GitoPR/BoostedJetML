{
 "cells": [
  {
   "cell_type": "code",
   "execution_count": 2,
   "id": "7afe3b90-8c71-4856-8943-ec4e5de12b6a",
   "metadata": {},
   "outputs": [
    {
     "name": "stdout",
     "output_type": "stream",
     "text": [
      "Welcome to JupyROOT 6.28/04\n"
     ]
    }
   ],
   "source": [
    "import numpy as np\n",
    "import uproot \n",
    "import awkward as ak\n",
    "import h5py\n",
    "import ROOT as root "
   ]
  },
  {
   "cell_type": "code",
   "execution_count": 3,
   "id": "a17afe77-c30b-4566-a76f-d846a4661643",
   "metadata": {},
   "outputs": [
    {
     "name": "stdout",
     "output_type": "stream",
     "text": [
      "(154668, 3, 3)\n"
     ]
    }
   ],
   "source": [
    "file = uproot.open(\"/Users/jorgehernandez/Documents/HEP_work/BoostedJetML/l1TNtuple-ggHBB_29Jul.root\") \n",
    "tree = file['l1NtupleProducer/efficiencyTree']\n",
    "\n",
    "\n",
    "jetreg = tree['jetRegionEt'].array()\n",
    "#print(jetreg) #.to_numpy().shape) \n",
    "\n",
    "allflat = ak.flatten(jetreg, axis=None) #was able to see that the jetreg awk array was a nested \n",
    "#list with inconsistent lengths and cant easily be converted into a numpy array\n",
    "#print(allflat)\n",
    "#print(ak.num(allflat, axis=0))\n",
    "#print(1392012/9)\n",
    "\n",
    "jr = allflat.to_numpy()\n",
    "\n",
    "#print(jr.shape)\n",
    "\n",
    "jetreg_r = np.resize(jr, (154668, 3,3))\n",
    "print(jetreg_r.shape)\n",
    "\n",
    "#print(jetreg_r[1])\n",
    "#print(jr.shape)"
   ]
  },
  {
   "cell_type": "code",
   "execution_count": null,
   "id": "faa7a31e-e796-497f-b04d-d901f76e03d7",
   "metadata": {},
   "outputs": [],
   "source": [
    "     "
   ]
  },
  {
   "cell_type": "code",
   "execution_count": 4,
   "id": "c651e61c-7e62-4bb7-a5a0-c2d143cac1fc",
   "metadata": {},
   "outputs": [
    {
     "name": "stdout",
     "output_type": "stream",
     "text": [
      "[False, False, False, True, False, False, False, False, False]\n"
     ]
    }
   ],
   "source": [
    "signals = tree['allL1Signals'].array()\n",
    "\n",
    "print(sig[3]) # in all the events we may not have the same amount of jets. It is 1 to 1 correspondence with 3x3 jet regions \n",
    "allflat = ak.flatten(signals, axis=None) #was able to see that the jetreg awk array was a nested \n",
    "#list with inconsistent lengths and cant easily be converted into a numpy array\n",
    "#print(allflat)\n",
    "#print(ak.num(allflat, axis=0))\n",
    "\n",
    "signals_r = allflat.to_numpy()\n",
    "#print(signals_r.shape)"
   ]
  },
  {
   "cell_type": "code",
   "execution_count": 17,
   "id": "cdf856b6-cb73-4854-8e2a-9b9d9e02fc13",
   "metadata": {},
   "outputs": [
    {
     "name": "stdout",
     "output_type": "stream",
     "text": [
      "[ 5  9 14 ... 14  9  9]\n"
     ]
    }
   ],
   "source": [
    "#Read the reco_pt\n",
    "reco_pt = tree['recoPt_1'].array().to_numpy()\n",
    "#print(reco_pt.shape)\n",
    "\n",
    "\n",
    "#Read the l1_pt\n",
    "l1_pt = tree[\"l1Pt_1\"].array().to_numpy()\n",
    "#print(l1_pt.shape) \n",
    "\n",
    "#Read the l1_jets\n",
    "l1_jets = tree[\"allL1Jets\"].array()\n",
    "#print(l1_jets)\n",
    "\n",
    "flat_jets = ak.flatten(l1_jets, axis=1)\n",
    "l1jets = flat_jets.to_numpy()\n",
    "\n",
    "\n",
    "#Make and write to the file an array that contains the size of the different regions. \n",
    "#The 18215 that is hardcoded in the range corresponds to the size of the jetRegionsEt and signals array\n",
    "l1jets_per_region = [] \n",
    "for index in range(0,18215): \n",
    "    l1jets_per_region.append(l1_jets[index].to_numpy().shape[0])\n",
    "\n",
    "regionDivisions = np.array(l1jets_per_region)\n",
    "#print(regionDivisions)\n",
    "\n",
    "\n",
    "\n",
    "\n",
    "\n",
    "#Read the reco_eta. \n",
    "reco_eta = tree[\"recoEta_1\"].array().to_numpy()\n",
    "#print(reco_eta.shape)\n",
    "\n",
    "#Read the reco_phi \n",
    "reco_phi =tree[\"recoPhi_1\"].array().to_numpy()\n",
    "#print(reco_phi.shape)\n",
    "\n"
   ]
  },
  {
   "cell_type": "code",
   "execution_count": 13,
   "id": "ee1911c8-9882-4899-9678-ee51f69b5c40",
   "metadata": {},
   "outputs": [],
   "source": [
    "with h5py.File('dataRead', 'w') as f: \n",
    "    dset1 = f.create_dataset(\"jetreg\" , data = jetreg_r) \n",
    "    dset2 = f.create_dataset(\"signals\", data = signals_r)\n",
    "    dset3 = f.create_dataset(\"recoPt_1\", data = reco_pt )  \n",
    "    dset4 = f.create_dataset(\"l1_pt\", data = l1_pt)  \n",
    "    dset5 = f.create_dataset(\"l1_jets\", data = l1jets) \n",
    "    dset6 = f.create_dataset(\"reco_eta\", data = reco_eta)\n",
    "    dset7 = f.create_dataset(\"reco_phi\", data = reco_phi)\n",
    "    dset8 = f.create_dataset(\"regionDivisions\", data = regionDivisions)"
   ]
  },
  {
   "cell_type": "code",
   "execution_count": null,
   "id": "133138f4-8416-4be2-9da9-46223f9949b7",
   "metadata": {},
   "outputs": [],
   "source": []
  }
 ],
 "metadata": {
  "kernelspec": {
   "display_name": "Python 3 (ipykernel)",
   "language": "python",
   "name": "python3"
  },
  "language_info": {
   "codemirror_mode": {
    "name": "ipython",
    "version": 3
   },
   "file_extension": ".py",
   "mimetype": "text/x-python",
   "name": "python",
   "nbconvert_exporter": "python",
   "pygments_lexer": "ipython3",
   "version": "3.9.18"
  }
 },
 "nbformat": 4,
 "nbformat_minor": 5
}
